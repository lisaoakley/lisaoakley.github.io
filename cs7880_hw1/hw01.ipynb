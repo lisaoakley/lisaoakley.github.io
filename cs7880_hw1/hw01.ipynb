{
 "cells": [
  {
   "cell_type": "code",
   "execution_count": 251,
   "id": "partial-bullet",
   "metadata": {},
   "outputs": [],
   "source": [
    "import random\n",
    "import pandas as pd\n",
    "import numpy as np\n",
    "import matplotlib.pyplot as plt\n",
    "import time"
   ]
  },
  {
   "cell_type": "code",
   "execution_count": 276,
   "id": "upper-prize",
   "metadata": {},
   "outputs": [],
   "source": [
    "def Attack(a,w=[]):\n",
    "    # Initialize x, Z. x[i] = -1 means x[i] has unknown value.\n",
    "    n = len(a)\n",
    "    x = [-1 for _ in range(n)]\n",
    "    Z = [-1 for _ in range(n)]\n",
    "    \n",
    "    if a[0] == 0:\n",
    "        Z[0] = 0\n",
    "        x[0] = 0\n",
    "\n",
    "    for i in reversed(range(n-1)):\n",
    "        # a_{i+1} - a_{i} = x_{i+1} + Z_{i+1} - Z_{i}\n",
    "        diff = a[i+1] - a[i]\n",
    "        \n",
    "        if diff == 2:\n",
    "            # (x_{i+1} + Z_{i+1} - Z_{i} == 2)\n",
    "            #   => Z_i = 0, Z_{i+1} = 1, x_{i+1} = 1\n",
    "            Z[i] = 0\n",
    "            Z[i+1] = 1\n",
    "            x[i+1] = 1\n",
    "        elif diff == -1:\n",
    "            # (x_{i+1} + Z_{i+1} - Z_{i} == -1)\n",
    "            #   => Z_i = 1, Z_{i+1} = 0, x_{i+1} = 0\n",
    "            Z[i] = 1\n",
    "            Z[i+1] = 0\n",
    "            x[i+1] = 0\n",
    "        elif Z[i+1] == 1 and diff == 0:\n",
    "            # (x_{i+1} + 1 - Z_{i} == 0)\n",
    "            #   => Z_i = 1, x_{i+1} = 0\n",
    "            Z[i] = 1\n",
    "            x[i+1] = 0\n",
    "        elif Z[i+1] == 0 and diff == 1:\n",
    "            # (x_{i+1} + 0 - Z_{i} == 1)\n",
    "            #   => Z_i = 0, x_{i+1} = 1\n",
    "            Z[i] = 0\n",
    "            x[i+1] = 1\n",
    "        \n",
    "\n",
    "    for i in range(n-1):\n",
    "        # a_{i+1} - a_{i} = x_{i+1} + Z_{i+1} - Z_{i}\n",
    "        diff = a[i+1] - a[i]\n",
    "        if Z[i] == 0 and diff == 0:\n",
    "            Z[i+1] = 0\n",
    "            x[i+1] = 0\n",
    "        elif Z[i] != -1 and Z[i+1] != -1:\n",
    "            #  x_{i+1} = a_{i+1} - a_{i} - Z_{i+1} + Z_{i}\n",
    "            x[i+1] = diff - Z[i+1] + Z[i]\n",
    "        elif x[i+1] == -1:\n",
    "            if w == []:\n",
    "                x[i+1] = diff\n",
    "            else:\n",
    "                x[i+1] = w[i+1]\n",
    "    \n",
    "    if Z[0] != -1:\n",
    "        x[0] = a[0] - Z[0]\n",
    "    else:\n",
    "        x[0] = a[0] if w == [] else w[0]\n",
    "    \n",
    "    return x\n",
    "    "
   ]
  },
  {
   "cell_type": "code",
   "execution_count": 319,
   "id": "becoming-madison",
   "metadata": {},
   "outputs": [],
   "source": [
    "ns = [100,500,1000,5000,50000]\n",
    "trials = 100\n",
    "results_a = pd.DataFrame([[None for _ in range(trials)] for _ in range(len(ns))],index=ns)\n",
    "results_b = pd.DataFrame([[None for _ in range(trials)] for _ in range(len(ns))],index=ns)\n",
    "\n",
    "for n in ns:\n",
    "    for i in range(trials):\n",
    "        startime = time.time()\n",
    "        true_x = [1 if random.uniform(0,1) < .5 else 0 for _ in range(n)]\n",
    "        true_Z = [1 if random.uniform(0,1) < .5 else 0 for _ in range(n)]\n",
    "        a = [sum(true_x[:j+1])+true_Z[j] for j in range(n)]\n",
    "        w = [true_x[j] if random.uniform(0,1) < 2/3 else 1-true_x[j] for j in range(n)]\n",
    "        xs_a = Attack(a)\n",
    "        diffs_a = sum([1 if xs_a[j] == true_x[j] else 0 for j in range(n)])/n\n",
    "        results_a.loc[n,i] = diffs_a\n",
    "        \n",
    "        xs_b = Attack(a,w)\n",
    "        diffs_b = sum([1 if xs_b[j] == true_x[j] else 0 for j in range(n)])/n\n",
    "        results_b.loc[n,i] = diffs_b\n"
   ]
  },
  {
   "cell_type": "markdown",
   "id": "native-newport",
   "metadata": {},
   "source": [
    "Part (a)"
   ]
  },
  {
   "cell_type": "code",
   "execution_count": 320,
   "id": "beginning-charge",
   "metadata": {},
   "outputs": [
    {
     "data": {
      "text/html": [
       "<div>\n",
       "<style scoped>\n",
       "    .dataframe tbody tr th:only-of-type {\n",
       "        vertical-align: middle;\n",
       "    }\n",
       "\n",
       "    .dataframe tbody tr th {\n",
       "        vertical-align: top;\n",
       "    }\n",
       "\n",
       "    .dataframe thead th {\n",
       "        text-align: right;\n",
       "    }\n",
       "</style>\n",
       "<table border=\"1\" class=\"dataframe\">\n",
       "  <thead>\n",
       "    <tr style=\"text-align: right;\">\n",
       "      <th></th>\n",
       "      <th>mean</th>\n",
       "      <th>std</th>\n",
       "    </tr>\n",
       "  </thead>\n",
       "  <tbody>\n",
       "    <tr>\n",
       "      <th>100</th>\n",
       "      <td>0.773700</td>\n",
       "      <td>0.042371</td>\n",
       "    </tr>\n",
       "    <tr>\n",
       "      <th>500</th>\n",
       "      <td>0.773880</td>\n",
       "      <td>0.021617</td>\n",
       "    </tr>\n",
       "    <tr>\n",
       "      <th>1000</th>\n",
       "      <td>0.772590</td>\n",
       "      <td>0.013460</td>\n",
       "    </tr>\n",
       "    <tr>\n",
       "      <th>5000</th>\n",
       "      <td>0.774856</td>\n",
       "      <td>0.006954</td>\n",
       "    </tr>\n",
       "    <tr>\n",
       "      <th>50000</th>\n",
       "      <td>0.773836</td>\n",
       "      <td>0.002069</td>\n",
       "    </tr>\n",
       "  </tbody>\n",
       "</table>\n",
       "</div>"
      ],
      "text/plain": [
       "           mean       std\n",
       "100    0.773700  0.042371\n",
       "500    0.773880  0.021617\n",
       "1000   0.772590  0.013460\n",
       "5000   0.774856  0.006954\n",
       "50000  0.773836  0.002069"
      ]
     },
     "execution_count": 320,
     "metadata": {},
     "output_type": "execute_result"
    }
   ],
   "source": [
    "a_means = results_a.T.agg([np.mean, np.std]).T\n",
    "a_means.head()"
   ]
  },
  {
   "cell_type": "code",
   "execution_count": 321,
   "id": "linear-wages",
   "metadata": {},
   "outputs": [
    {
     "data": {
      "image/png": "[encoded data removed]",
      "text/plain": [
       "<Figure size 432x288 with 1 Axes>"
      ]
     },
     "metadata": {
      "needs_background": "light"
     },
     "output_type": "display_data"
    }
   ],
   "source": [
    "# results_a.T.plot.box(y=ylabel='Percent Correct', xlabel='n', title='(a) Percent $x_i$ Correctly Guessed (Mean Over {} Trials)'.format(trials), color='green') \n",
    "a_means.plot(y=\"mean\",yerr=\"std\",capsize=4,ylabel='Percent Correct', xlabel='n', title='(a) Percent $x_i$ Correctly Guessed (Mean Over {} Trials)'.format(trials), color='green') \n",
    "plt.plot([0,ns[-1]],[.75,.75],label='.75',color='black',linestyle='--')\n",
    "plt.legend()\n",
    "plt.show()"
   ]
  },
  {
   "cell_type": "markdown",
   "id": "turned-copyright",
   "metadata": {},
   "source": [
    "Part (b)"
   ]
  },
  {
   "cell_type": "code",
   "execution_count": 322,
   "id": "improving-calgary",
   "metadata": {},
   "outputs": [
    {
     "data": {
      "text/html": [
       "<div>\n",
       "<style scoped>\n",
       "    .dataframe tbody tr th:only-of-type {\n",
       "        vertical-align: middle;\n",
       "    }\n",
       "\n",
       "    .dataframe tbody tr th {\n",
       "        vertical-align: top;\n",
       "    }\n",
       "\n",
       "    .dataframe thead th {\n",
       "        text-align: right;\n",
       "    }\n",
       "</style>\n",
       "<table border=\"1\" class=\"dataframe\">\n",
       "  <thead>\n",
       "    <tr style=\"text-align: right;\">\n",
       "      <th></th>\n",
       "      <th>mean</th>\n",
       "      <th>std</th>\n",
       "    </tr>\n",
       "  </thead>\n",
       "  <tbody>\n",
       "    <tr>\n",
       "      <th>100</th>\n",
       "      <td>0.805600</td>\n",
       "      <td>0.044661</td>\n",
       "    </tr>\n",
       "    <tr>\n",
       "      <th>500</th>\n",
       "      <td>0.804120</td>\n",
       "      <td>0.019355</td>\n",
       "    </tr>\n",
       "    <tr>\n",
       "      <th>1000</th>\n",
       "      <td>0.802490</td>\n",
       "      <td>0.015722</td>\n",
       "    </tr>\n",
       "    <tr>\n",
       "      <th>5000</th>\n",
       "      <td>0.803626</td>\n",
       "      <td>0.006555</td>\n",
       "    </tr>\n",
       "    <tr>\n",
       "      <th>50000</th>\n",
       "      <td>0.803105</td>\n",
       "      <td>0.001902</td>\n",
       "    </tr>\n",
       "  </tbody>\n",
       "</table>\n",
       "</div>"
      ],
      "text/plain": [
       "           mean       std\n",
       "100    0.805600  0.044661\n",
       "500    0.804120  0.019355\n",
       "1000   0.802490  0.015722\n",
       "5000   0.803626  0.006555\n",
       "50000  0.803105  0.001902"
      ]
     },
     "execution_count": 322,
     "metadata": {},
     "output_type": "execute_result"
    }
   ],
   "source": [
    "b_means = results_b.T.agg([np.mean, np.std]).T\n",
    "b_means.head()"
   ]
  },
  {
   "cell_type": "code",
   "execution_count": 323,
   "id": "overall-london",
   "metadata": {},
   "outputs": [
    {
     "data": {
      "image/png": "[encoded data removed]",
      "text/plain": [
       "<Figure size 432x288 with 1 Axes>"
      ]
     },
     "metadata": {
      "needs_background": "light"
     },
     "output_type": "display_data"
    }
   ],
   "source": [
    "b_means.plot(y=\"mean\",yerr=\"std\",capsize=4,ylabel='Percent Correct', xlabel='n', title='(b) Percent $x_i$ Correctly Guessed (Mean Over {} Trials)'.format(trials), color='green') \n",
    "plt.plot([0,ns[-1]],[.8,.8],label='.8',color='black',linestyle='--')\n",
    "plt.legend()\n",
    "plt.show()"
   ]
  },
  {
   "cell_type": "code",
   "execution_count": null,
   "id": "sunset-latest",
   "metadata": {},
   "outputs": [],
   "source": []
  },
  {
   "cell_type": "code",
   "execution_count": null,
   "id": "combined-repository",
   "metadata": {},
   "outputs": [],
   "source": []
  },
  {
   "cell_type": "code",
   "execution_count": null,
   "id": "labeled-latter",
   "metadata": {},
   "outputs": [],
   "source": []
  }
 ],
 "metadata": {
  "kernelspec": {
   "display_name": "Python 3",
   "language": "python",
   "name": "python3"
  },
  "language_info": {
   "codemirror_mode": {
    "name": "ipython",
    "version": 3
   },
   "file_extension": ".py",
   "mimetype": "text/x-python",
   "name": "python",
   "nbconvert_exporter": "python",
   "pygments_lexer": "ipython3",
   "version": "3.7.3"
  }
 },
 "nbformat": 4,
 "nbformat_minor": 5
}
